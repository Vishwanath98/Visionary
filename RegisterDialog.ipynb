{
 "cells": [
  {
   "cell_type": "code",
   "execution_count": 1,
   "id": "0e7bf073",
   "metadata": {},
   "outputs": [],
   "source": [
    "import sys\n",
    "from PyQt5 import uic\n",
    "from PyQt5.QtWidgets import QDialog, QApplication, QTableWidgetItem, QHeaderView\n",
    "from DATA225utils import make_connection"
   ]
  },
  {
   "cell_type": "code",
   "execution_count": null,
   "id": "79f2293c",
   "metadata": {},
   "outputs": [],
   "source": [
    "class RegisterDialog(self,QDialog):\n",
    "    \"\"\"\n",
    "        Load the UI and initialize its components.\n",
    "        \"\"\"\n",
    "        \n",
    "        # Load the dialog components.\n",
    "        self.ui = uic.loadUi('Register_Dialog.ui')\n",
    "        first = self.lineEdit.text() \n",
    "        last = self.lineEdit2.text() \n",
    "        email = self.lineEdit3.text() \n",
    "        password = self.lineEdit4.text() \n",
    "        password_confirm = self.lineEdit5.text()\n",
    "        \n",
    "        reg_data=[first,last,email,password,password_confirm]\n",
    "        self._insert_registration_data()\n",
    "        \n",
    "    "
   ]
  },
  {
   "cell_type": "code",
   "execution_count": null,
   "id": "e5b9d9f9",
   "metadata": {},
   "outputs": [],
   "source": [
    "def show_dialog(self):\n",
    "    self.ui.show()\n",
    "        \n",
    "        \"\"\"\n",
    "        Show this dialog.\n",
    "        \"\"\"\n",
    "        self.ui.show()"
   ]
  },
  {
   "cell_type": "code",
   "execution_count": null,
   "id": "726e4b8f",
   "metadata": {},
   "outputs": [],
   "source": [
    "def _insert_registration_data(self):\n",
    "        \n",
    "        \n",
    "        conn = make_connection(config_file = 'hosp.ini')\n",
    "        cursor = conn.cursor()\n",
    "        \n",
    "        self.cursor.execute(f\"INSERT INTO register VALUES ({first}, {last}, {email, password}\" \n",
    "                            #VALUES (?, ?, ?, ?, ?)\", data)\n",
    "        self.conn.commit()\n",
    "        \n",
    "                \n",
    "        self._adjust_column_widths()\n",
    "              \n",
    "        cursor.close()\n",
    "        conn.close()\n",
    "        "
   ]
  },
  {
   "cell_type": "code",
   "execution_count": null,
   "id": "64c633f2",
   "metadata": {},
   "outputs": [],
   "source": [
    "if __name__ == '__main__':\n",
    "    app = QApplication(sys.argv)\n",
    "    form = RegistertDialog()\n",
    "    form.show_dialog()\n",
    "    sys.exit(app.exec_())"
   ]
  }
 ],
 "metadata": {
  "kernelspec": {
   "display_name": "Python 3 (ipykernel)",
   "language": "python",
   "name": "python3"
  },
  "language_info": {
   "codemirror_mode": {
    "name": "ipython",
    "version": 3
   },
   "file_extension": ".py",
   "mimetype": "text/x-python",
   "name": "python",
   "nbconvert_exporter": "python",
   "pygments_lexer": "ipython3",
   "version": "3.10.12"
  }
 },
 "nbformat": 4,
 "nbformat_minor": 5
}
