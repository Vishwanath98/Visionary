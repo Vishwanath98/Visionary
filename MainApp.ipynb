{
 "cells": [
  {
   "cell_type": "code",
   "execution_count": 1,
   "id": "92d53d6a-c56f-48cd-8dd4-e0dcb9243ff4",
   "metadata": {},
   "outputs": [],
   "source": [
    "import sys\n",
    "from PyQt5.QtWidgets import QApplication\n",
    "from PyQt5.QtCore import QCoreApplication\n",
    "from LoginDialog import LoginDialog"
   ]
  },
  {
   "cell_type": "code",
   "execution_count": null,
   "id": "12cacc43-7ebe-4369-b9d6-d4e11faee324",
   "metadata": {},
   "outputs": [],
   "source": [
    "app = QCoreApplication(sys.argv)\n",
    "form = LoginDialog()\n",
    "app.exec_()"
   ]
  },
  {
   "cell_type": "code",
   "execution_count": null,
   "id": "22df0f40-7417-48d7-a76c-38196afaf0b2",
   "metadata": {},
   "outputs": [],
   "source": []
  },
  {
   "cell_type": "code",
   "execution_count": null,
   "id": "60f2868b",
   "metadata": {},
   "outputs": [],
   "source": []
  }
 ],
 "metadata": {
  "kernelspec": {
   "display_name": "Python 3 (ipykernel)",
   "language": "python",
   "name": "python3"
  },
  "language_info": {
   "codemirror_mode": {
    "name": "ipython",
    "version": 3
   },
   "file_extension": ".py",
   "mimetype": "text/x-python",
   "name": "python",
   "nbconvert_exporter": "python",
   "pygments_lexer": "ipython3",
   "version": "3.10.12"
  }
 },
 "nbformat": 4,
 "nbformat_minor": 5
}
