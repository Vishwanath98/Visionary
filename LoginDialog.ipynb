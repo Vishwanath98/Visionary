{
 "cells": [
  {
   "cell_type": "code",
   "execution_count": 1,
   "id": "c5ddec38",
   "metadata": {},
   "outputs": [],
   "source": [
    "from PyQt5 import uic\n",
    "from PyQt5.QtGui import QWindow\n",
    "from RegisterDialog import RegisterDialog"
   ]
  },
  {
   "cell_type": "code",
   "execution_count": null,
   "id": "25f78f74",
   "metadata": {},
   "outputs": [],
   "source": [
    "class LoginDialog(self,QWindow):\n",
    "    \"\"\"\n",
    "    The main application window.\n",
    "    \"\"\"\n",
    "    \n",
    "    def __init__(self):\n",
    "        \"\"\"\n",
    "        Load the UI and initialize its components.\n",
    "        \"\"\"\n",
    "        super().__init__()\n",
    "        self.ui = uic.loadUi('Login_Dialog.ui')\n",
    "        self.ui.show();\n",
    "        \n",
    "        "
   ]
  },
  {
   "cell_type": "code",
   "execution_count": null,
   "id": "054c635b",
   "metadata": {},
   "outputs": [],
   "source": [
    "  def show_dialog(self):\n",
    "        \n",
    "        \"\"\"\n",
    "        Show this dialog.\n",
    "        \"\"\"\n",
    "        self.ui.show()"
   ]
  },
  {
   "cell_type": "code",
   "execution_count": null,
   "id": "2280f588",
   "metadata": {},
   "outputs": [],
   "source": []
  }
 ],
 "metadata": {
  "kernelspec": {
   "display_name": "Python 3 (ipykernel)",
   "language": "python",
   "name": "python3"
  },
  "language_info": {
   "codemirror_mode": {
    "name": "ipython",
    "version": 3
   },
   "file_extension": ".py",
   "mimetype": "text/x-python",
   "name": "python",
   "nbconvert_exporter": "python",
   "pygments_lexer": "ipython3",
   "version": "3.10.12"
  }
 },
 "nbformat": 4,
 "nbformat_minor": 5
}
